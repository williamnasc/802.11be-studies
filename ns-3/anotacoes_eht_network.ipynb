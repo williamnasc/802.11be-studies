{
 "cells": [
  {
   "cell_type": "markdown",
   "id": "8e653fd1-612d-4fbd-aea7-c27457d5fbe3",
   "metadata": {},
   "source": [
    "# EHT NETWORK\n",
    "\n",
    "## Parâmetros\n"
   ]
  },
  {
   "cell_type": "markdown",
   "id": "d8a6b0b0-457b-42db-aa67-776b3361e8dc",
   "metadata": {
    "jp-MarkdownHeadingCollapsed": true
   },
   "source": [
    "#### Frequency [5], frequency2 [0], frequency3 [0]:\n",
    "\n",
    "Define as frequências usadas nos até 3 links possíveis usando Multi-Link Operation.\n",
    "Os valores possíveis são: 2.4 ; 5 ; 6 ; 0. Por padrão, só está ativada uma frequência.\n"
   ]
  },
  {
   "cell_type": "code",
   "execution_count": null,
   "id": "caf53332-c98e-4e19-b498-15a647dfdd8c",
   "metadata": {},
   "outputs": [],
   "source": [
    "channelStr[nLinks] = \"{0, \" + std::to_string(channelWidth) + \", \";\n",
    "if (freq == 6)\n",
    "{\n",
    "    channelStr[nLinks] += \"BAND_6GHZ, 0}\";\n",
    "    Config::SetDefault(\"ns3::LogDistancePropagationLossModel::ReferenceLoss\",\n",
    "                       DoubleValue(48));\n",
    "    wifi.SetRemoteStationManager(nLinks,\n",
    "                                 \"ns3::ConstantRateWifiManager\",\n",
    "                                 \"DataMode\",\n",
    "                                 StringValue(dataModeStr),\n",
    "                                 \"ControlMode\",\n",
    "                                 StringValue(dataModeStr));\n",
    "}\n",
    "else if (freq == 5)\n",
    "{\n",
    "    channelStr[nLinks] += \"BAND_5GHZ, 0}\";\n",
    "    ctrlRateStr = \"OfdmRate\" + std::to_string(nonHtRefRateMbps) + \"Mbps\";\n",
    "    wifi.SetRemoteStationManager(nLinks,\n",
    "                                 \"ns3::ConstantRateWifiManager\",\n",
    "                                 \"DataMode\",\n",
    "                                 StringValue(dataModeStr),\n",
    "                                 \"ControlMode\",\n",
    "                                 StringValue(ctrlRateStr));\n",
    "}\n",
    "else if (freq == 2.4)\n",
    "{\n",
    "    channelStr[nLinks] += \"BAND_2_4GHZ, 0}\";\n",
    "    Config::SetDefault(\"ns3::LogDistancePropagationLossModel::ReferenceLoss\",\n",
    "                       DoubleValue(40));\n",
    "    ctrlRateStr = \"ErpOfdmRate\" + std::to_string(nonHtRefRateMbps) + \"Mbps\";\n",
    "    wifi.SetRemoteStationManager(nLinks,\n",
    "                                 \"ns3::ConstantRateWifiManager\",\n",
    "                                 \"DataMode\",\n",
    "                                 StringValue(dataModeStr),\n",
    "                                 \"ControlMode\",\n",
    "                                 StringValue(ctrlRateStr));\n",
    "}"
   ]
  },
  {
   "cell_type": "markdown",
   "id": "c1e384a8-46d9-4394-a1d2-554103a43f9b",
   "metadata": {},
   "source": [
    "Este trecho configura os parametros de link para cada canal que tenha sido passado nos parametros de execução do script.\n",
    "\n",
    "Se foi a frequencia foi escolhida, o algoritmo adiciona a banda ao _channelStr_ e define o _SetRemoteStationManager_.\n",
    "\n",
    "O _SetRemoteStationManager_ é responável por definir os parametros passados para a estação no link definido pela variável _nLinks_."
   ]
  },
  {
   "cell_type": "code",
   "execution_count": null,
   "id": "058cb95c-a62d-42a8-8562-cbe07225101f",
   "metadata": {},
   "outputs": [],
   "source": [
    "Ssid ssid = Ssid(\"ns3-80211be\");\n",
    "\n",
    "/*\n",
    " * SingleModelSpectrumChannel cannot be used with 802.11be because two\n",
    " * spectrum models are required: one with 78.125 kHz bands for HE PPDUs\n",
    " * and one with 312.5 kHz bands for, e.g., non-HT PPDUs (for more details,\n",
    " * see issue #408 (CLOSED))\n",
    " */\n",
    "Ptr<MultiModelSpectrumChannel> spectrumChannel =\n",
    "    CreateObject<MultiModelSpectrumChannel>();\n",
    "\n",
    "Ptr<LogDistancePropagationLossModel> lossModel =\n",
    "    CreateObject<LogDistancePropagationLossModel>();\n",
    "spectrumChannel->AddPropagationLossModel(lossModel);\n",
    "\n",
    "SpectrumWifiPhyHelper phy(nLinks);\n",
    "phy.SetPcapDataLinkType(WifiPhyHelper::DLT_IEEE802_11_RADIO);\n",
    "phy.SetChannel(spectrumChannel);\n",
    "\n",
    "mac.SetType(\"ns3::StaWifiMac\", \"Ssid\", SsidValue(ssid));\n",
    "for (uint8_t linkId = 0; linkId < nLinks; linkId++)\n",
    "{\n",
    "    phy.Set(linkId, \"ChannelSettings\", StringValue(channelStr[linkId]));\n",
    "}\n",
    "staDevices = wifi.Install(phy, mac, wifiStaNodes);"
   ]
  },
  {
   "cell_type": "markdown",
   "id": "a403ea9f-ca2b-47e5-89ad-ab93f9b26a40",
   "metadata": {},
   "source": [
    "Após a definição dos links que serão utilizados. É definido o ssid da rede;\n",
    "\n",
    "Também é um MultiModelSpectrumChannel do tipo MultiModelSpectrumChannel.\n",
    "O MultiModelSpectrumChannel é uma implementação do SpectrumChannel que pode lidar com diferentes modelos de espectro, ou seja, diferentes SpectrumModel e SpectrumPhy.\n",
    "\n",
    "Depois é feita a criação de modelo de propagação e ele é atribuido ao spectrumChannel criado anteriormente.\n",
    "\n",
    "Em seguida é criado o SpectrumWifiPhyHelper com o número de links q foi definido pelos parâmetros (nLinks).\n",
    "Ao phy é definido um modelo de PCAP (método de captura de pacotes) e também o MultiModelSpectrumChannel criado anteriormente.\n",
    "\n",
    "Por fim, ao WifiMacHelper (mac) é definido seu tipo e ssid e em seguida cada um dos links configurados anteriormene é atribuido ao SpectrumWifiPhyHelper (phy) as configurações de cada canal.\n",
    "\n",
    "Feito isso, são instalados em cada device, seu respectivo nó, e configurações de phy e mac."
   ]
  },
  {
   "cell_type": "markdown",
   "id": "1fa26129-8aa7-4045-a1c0-26d7d2b59670",
   "metadata": {
    "jp-MarkdownHeadingCollapsed": true
   },
   "source": [
    "#### Distance [1]:\n",
    "\n",
    "Define a distância em metros entre os STAs e o AP.\n",
    "Por padrão, a distância é 1 metro."
   ]
  },
  {
   "cell_type": "code",
   "execution_count": null,
   "id": "9c199545-c77e-4611-9030-2c3b1ccbc4aa",
   "metadata": {},
   "outputs": [],
   "source": [
    "// mobility.\n",
    "MobilityHelper mobility;\n",
    "Ptr<ListPositionAllocator> positionAlloc = CreateObject<ListPositionAllocator>();\n",
    "\n",
    "positionAlloc->Add(Vector(0.0, 0.0, 0.0));\n",
    "positionAlloc->Add(Vector(distance, 0.0, 0.0));\n",
    "mobility.SetPositionAllocator(positionAlloc);\n",
    "\n",
    "mobility.SetMobilityModel(\"ns3::ConstantPositionMobilityModel\");\n",
    "\n",
    "mobility.Install(wifiApNode);\n",
    "mobility.Install(wifiStaNodes);"
   ]
  },
  {
   "cell_type": "markdown",
   "id": "4e92e450-d6f0-4ffb-aca0-77475b84eb7c",
   "metadata": {},
   "source": [
    "A distância é definida nas configurações de mobilidade dos dispositivos."
   ]
  },
  {
   "cell_type": "markdown",
   "id": "8ab17df1-3760-4b04-bfeb-d978623c2b8f",
   "metadata": {
    "jp-MarkdownHeadingCollapsed": true
   },
   "source": [
    "#### SimulationTime [10]:\n",
    "\n",
    "Define o tempo da simulação em segundos. Por padrão são 10s de simulação.\n",
    "\n",
    "O tempo de simulação é utilizados para a definição de alguns parâmetros e calculos, como por exemplo, para calcular o Throughput."
   ]
  },
  {
   "cell_type": "code",
   "execution_count": null,
   "id": "4d950777-c96b-4dcf-9452-7f332205a36b",
   "metadata": {},
   "outputs": [],
   "source": [
    "// UDP flow\n",
    "uint16_t port = 9;\n",
    "UdpServerHelper server(port);\n",
    "serverApp = server.Install(serverNodes.get());\n",
    "serverApp.Start(Seconds(0.0));\n",
    "serverApp.Stop(Seconds(simulationTime + 1));"
   ]
  },
  {
   "cell_type": "markdown",
   "id": "1183998d-0b0d-4e26-8bdf-f609e6c7b873",
   "metadata": {},
   "source": [
    "Na configuração de tráfego o tempo de simulação é usado para definir quando o servidor irá parar"
   ]
  },
  {
   "cell_type": "code",
   "execution_count": null,
   "id": "676127eb-52d9-43d7-bf5f-142f26c6ac51",
   "metadata": {},
   "outputs": [],
   "source": [
    " double throughput = (rxBytes * 8) / (simulationTime * 1000000.0); // Mbit/s"
   ]
  },
  {
   "cell_type": "markdown",
   "id": "95b06995-79cb-48b4-a8a1-104094349552",
   "metadata": {},
   "source": [
    "Para Calcular o Throughput o tempo de simulação é usado para obtermos o resultado em Mbit/s uma vez que rxBytes é a quantidade de bytes acumulada ao longo da simulação."
   ]
  },
  {
   "cell_type": "markdown",
   "id": "9696a067-6dd3-48d4-8e71-1ca3b62e7382",
   "metadata": {
    "jp-MarkdownHeadingCollapsed": true
   },
   "source": [
    "#### UDP [True]:\n",
    "\n",
    "Define o qual será o tipo de tráfego utilizado na simulação, se será UDP ou TCP. Por padrão é o UDP, esse valor é definido em uma variável booleana chamada udp, portanto:\n",
    "\n",
    "- udp = true -> UPD\n",
    "- udp = false -> TCP\n",
    "\n",
    "Sabemos que o UDP e TCP são protocolos da camada de transporte e em resumo, o TCP é mais confiável, mas mais lento devido ao controle adicional. O UDP é mais rápido, mas não garante a entrega.\n",
    "\n",
    "A depender do protocolo, algumas configurações são diferentes na montagem da simulação."
   ]
  },
  {
   "cell_type": "markdown",
   "id": "81a92e94-b698-4576-91e4-7fd1405da2df",
   "metadata": {
    "jp-MarkdownHeadingCollapsed": true
   },
   "source": [
    "#### Download [True]:\n",
    "\n",
    "Define o qual será o tipo de tráfego utilizado na simulação, se será UDP ou TCP. Por padrão é o UDP, esse valor é definido em uma variável booleana chamada udp, portanto:\n"
   ]
  },
  {
   "cell_type": "code",
   "execution_count": null,
   "id": "6ee7fe01-ae04-4876-9207-9e02cbdd2b11",
   "metadata": {},
   "outputs": [],
   "source": [
    "/* Setting applications */\n",
    "ApplicationContainer serverApp;\n",
    "auto serverNodes = downlink ? std::ref(wifiStaNodes) : std::ref(wifiApNode);\n",
    "Ipv4InterfaceContainer serverInterfaces;\n",
    "NodeContainer clientNodes;\n",
    "for (std::size_t i = 0; i < nStations; i++)\n",
    "{\n",
    "    serverInterfaces.Add(downlink ? staNodeInterfaces.Get(i)\n",
    "                                  : apNodeInterface.Get(0));\n",
    "    clientNodes.Add(downlink ? wifiApNode.Get(0) : wifiStaNodes.Get(i));\n",
    "}"
   ]
  },
  {
   "cell_type": "markdown",
   "id": "833cc9e4-8e05-44cd-94b9-42124ee66587",
   "metadata": {},
   "source": [
    "aaaa"
   ]
  },
  {
   "cell_type": "code",
   "execution_count": null,
   "id": "e6f0d83b-62a6-48dc-946c-7d65e87969bc",
   "metadata": {},
   "outputs": [],
   "source": []
  }
 ],
 "metadata": {
  "kernelspec": {
   "display_name": "Python 3 (ipykernel)",
   "language": "python",
   "name": "python3"
  },
  "language_info": {
   "codemirror_mode": {
    "name": "ipython",
    "version": 3
   },
   "file_extension": ".py",
   "mimetype": "text/x-python",
   "name": "python",
   "nbconvert_exporter": "python",
   "pygments_lexer": "ipython3",
   "version": "3.8.10"
  }
 },
 "nbformat": 4,
 "nbformat_minor": 5
}
